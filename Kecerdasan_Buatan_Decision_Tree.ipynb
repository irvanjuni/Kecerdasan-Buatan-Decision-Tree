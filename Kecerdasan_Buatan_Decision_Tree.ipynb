{
  "nbformat": 4,
  "nbformat_minor": 0,
  "metadata": {
    "colab": {
      "name": "Kecerdasan Buatan Decision Tree",
      "provenance": [],
      "collapsed_sections": [],
      "authorship_tag": "ABX9TyO5fEx63/X+mZhLZNyKvy8t",
      "include_colab_link": true
    },
    "kernelspec": {
      "name": "python3",
      "display_name": "Python 3"
    }
  },
  "cells": [
    {
      "cell_type": "markdown",
      "metadata": {
        "id": "view-in-github",
        "colab_type": "text"
      },
      "source": [
        "<a href=\"https://colab.research.google.com/github/edevips/Kecerdasan-Buatan-Decision-Tree/blob/main/Kecerdasan_Buatan_Decision_Tree.ipynb\" target=\"_parent\"><img src=\"https://colab.research.google.com/assets/colab-badge.svg\" alt=\"Open In Colab\"/></a>"
      ]
    },
    {
      "cell_type": "code",
      "metadata": {
        "colab": {
          "base_uri": "https://localhost:8080/"
        },
        "id": "B-K0sBtgBCMZ",
        "outputId": "ab88b453-21f7-438b-ee26-6a9d4f8c9b75"
      },
      "source": [
        "A = ['Nama : Irvan Junianto']\r\n",
        "B = ['NIM : 171011450523']\r\n",
        "C = ['Tugas : Membuat Model \"Machine learning\" Menggunakan Algoritma Decision Tree']\r\n",
        "print(A,B,C)"
      ],
      "execution_count": 1,
      "outputs": [
        {
          "output_type": "stream",
          "text": [
            "['Nama : Irvan Junianto'] ['NIM : 171011450523'] ['Tugas : Membuat Model \"Machine learning\" Menggunakan Algoritma Decision Tree']\n"
          ],
          "name": "stdout"
        }
      ]
    },
    {
      "cell_type": "code",
      "metadata": {
        "id": "JbLgmeryBPcB"
      },
      "source": [
        "from sklearn import tree "
      ],
      "execution_count": 3,
      "outputs": []
    },
    {
      "cell_type": "markdown",
      "metadata": {
        "id": "kVNEpJz1BWUc"
      },
      "source": [
        "Menggunakan library \"scikit-learn\" pada python (\"sklearn\") dengan memanggil \"Tree\""
      ]
    },
    {
      "cell_type": "code",
      "metadata": {
        "id": "IlpRwgbYBXdd"
      },
      "source": [
        "clf = tree.DecisionTreeClassifier()"
      ],
      "execution_count": 4,
      "outputs": []
    },
    {
      "cell_type": "markdown",
      "metadata": {
        "id": "23rz__RVBg3n"
      },
      "source": [
        "Kemudian di Buat sebuah fariabel \"clf\"\r\n",
        "\r\n",
        "di dalam fariabel \"clf\" di panggil \"tree.DecisionTreeClassifier()\" Sebagai model yang akan digunakan"
      ]
    },
    {
      "cell_type": "code",
      "metadata": {
        "id": "8vf8_T6DBiAv"
      },
      "source": [
        "X = [[180, 80, 40], [170, 70, 30], [70, 60, 20], [50, 50, 10]] #[TinggiBadan, beratBadan, Umur]"
      ],
      "execution_count": 5,
      "outputs": []
    },
    {
      "cell_type": "markdown",
      "metadata": {
        "id": "IsIpWdfwBqb6"
      },
      "source": [
        "Inputan Klasifikasi Objek data dalam bentuk Array (Array adalah sebuah variabel yang menyimpan lebih dari 1 buah data yang memiliki tipe data yang sama)"
      ]
    },
    {
      "cell_type": "code",
      "metadata": {
        "id": "jrZQnuZZBrZJ"
      },
      "source": [
        "Y = ['Pria', 'Pria', 'Wanita', 'Wanita'] #Keterangan Yang akan di Label_kan (di Jelaskan)"
      ],
      "execution_count": 6,
      "outputs": []
    },
    {
      "cell_type": "markdown",
      "metadata": {
        "id": "uxpdQadhBvKH"
      },
      "source": [
        "Inputan data dalam Array\r\n",
        "\r\n",
        "\"Sama Seperti pada Input data pada Variabel \"X\""
      ]
    },
    {
      "cell_type": "code",
      "metadata": {
        "id": "5RWUL_AtB2hC"
      },
      "source": [
        "clf = clf.fit(X, Y)"
      ],
      "execution_count": 7,
      "outputs": []
    },
    {
      "cell_type": "markdown",
      "metadata": {
        "id": "W_MCwAO9B5_a"
      },
      "source": [
        "Dilakukan \"fitting data\" atau penyesuaian data ke 'Model' yang digunakan.\r\n",
        "\r\n",
        "Model yang digunakan adalah \"DecisionTree\"\r\n",
        "\r\n",
        "dilakukan fitting data pada data X dan Y \"Untuk training model (Model Pelatihan)\" pada \"DecisionTree\"\r\n",
        "\r\n",
        "Maka ketika kita ingin melakukan prediksi, Maka akan mengambil model \"data X dan Y yang telah di buat sebelumnya, untuk di cocokkan dengan data Inputan untuk presiksi\" kemudian akan tampil hasilnya"
      ]
    },
    {
      "cell_type": "code",
      "metadata": {
        "colab": {
          "base_uri": "https://localhost:8080/"
        },
        "id": "c0x4wCfcCDZN",
        "outputId": "780bd65b-2e25-4a86-e65a-d8b78062714d"
      },
      "source": [
        "prediction = clf.predict([[80, 30, 10]]) #Inputan Model Data yang digunakan \r\n",
        "print(prediction)"
      ],
      "execution_count": 8,
      "outputs": [
        {
          "output_type": "stream",
          "text": [
            "['Wanita']\n"
          ],
          "name": "stdout"
        }
      ]
    }
  ]
}